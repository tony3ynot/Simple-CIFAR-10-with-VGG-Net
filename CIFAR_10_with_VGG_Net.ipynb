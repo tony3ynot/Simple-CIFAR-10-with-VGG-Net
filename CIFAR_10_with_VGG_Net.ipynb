{
  "nbformat": 4,
  "nbformat_minor": 0,
  "metadata": {
    "colab": {
      "provenance": [],
      "gpuType": "T4"
    },
    "kernelspec": {
      "name": "python3",
      "display_name": "Python 3"
    },
    "language_info": {
      "name": "python"
    },
    "accelerator": "GPU"
  },
  "cells": [
    {
      "cell_type": "code",
      "execution_count": null,
      "metadata": {
        "id": "EsqHtqKNXT-g"
      },
      "outputs": [],
      "source": [
        "import torch\n",
        "from torch import nn, optim\n",
        "import matplotlib.pyplot as plt\n",
        "from tqdm import tqdm"
      ]
    },
    {
      "cell_type": "markdown",
      "source": [
        "VGG NET"
      ],
      "metadata": {
        "id": "uAAgFABavaqR"
      }
    },
    {
      "cell_type": "code",
      "source": [
        "cfgs = { \"A\": [64, \"M\", 128, \"M\", 256, 256, \"M\", 512, 512, \"M\", 512, 512, \"M\"],\n",
        "         \"B\": [64, 64, \"M\", 128, 128, \"M\", 256, 256, \"M\", 512, 512, \"M\", 512, 512, \"M\"],\n",
        "         \"D\": [64, 64, \"M\", 128, 128, \"M\", 256, 256, 256, \"M\", 512, 512, 512, \"M\", 512, 512, 512, \"M\"],\n",
        "         \"E\": [64, 64, \"M\", 128, 128, \"M\", 256, 256, 256, 256, \"M\", 512, 512, 512, 512, \"M\", 512, 512, 512, 512, \"M\"] }"
      ],
      "metadata": {
        "id": "TSAdKGOCXWai"
      },
      "execution_count": null,
      "outputs": []
    },
    {
      "cell_type": "code",
      "source": [
        "class VGG(nn.Module):\n",
        "    def __init__(self, cfg, batch_norm, num_classes = 1000, init_weights = True, drop_p = 0.5):\n",
        "        super().__init__()\n",
        "\n",
        "        self.features = self.make_layers(cfg, batch_norm)\n",
        "        self.avgpool = nn.AdaptiveAvgPool2d((7,7))\n",
        "        self.classifier = nn.Sequential(nn.Linear(512*7*7, 4096),\n",
        "                                        nn.ReLU(),\n",
        "                                        nn.Dropout(p=drop_p),\n",
        "                                        nn.Linear(4096,4096),\n",
        "                                        nn.ReLU(),\n",
        "                                        nn.Dropout(p=drop_p),\n",
        "                                        nn.Linear(4096, num_classes))\n",
        "        if init_weights:\n",
        "            for m in self.modules():\n",
        "                if isinstance(m, nn.Conv2d):\n",
        "                    nn.init.kaiming_normal_(m.weight, mode='fan_out', nonlinearity='relu')\n",
        "                    if m.bias is not None:\n",
        "                        nn.init.constant_(m.bias, 0)\n",
        "                elif isinstance(m, nn.Linear):\n",
        "                    nn.init.normal_(m.weight, 0, 0.01)\n",
        "                    nn.init.constant_(m.bias, 0)\n",
        "\n",
        "    def forward(self, x):\n",
        "        x = self.features(x)\n",
        "        x = self.avgpool(x)\n",
        "        x = torch.flatten(x, 1)\n",
        "        x = self.classifier(x)\n",
        "        return x\n",
        "\n",
        "    def make_layers(self, cfg, batch_norm = False):\n",
        "        layers = []\n",
        "        in_channels = 3\n",
        "        for v in cfg:\n",
        "            if type(v) == int:\n",
        "                if batch_norm:\n",
        "                    layers += [nn.Conv2d(in_channels, v, 3, padding=1, bias=False),\n",
        "                               nn.BatchNorm2d(v),\n",
        "                               nn.ReLU()]\n",
        "                else:\n",
        "                    layers += [nn.Conv2d(in_channels, v, 3, padding=1),\n",
        "                               nn.ReLU()]\n",
        "                in_channels = v\n",
        "            else:\n",
        "                layers += [nn.MaxPool2d(2)]\n",
        "        return nn.Sequential(*layers)"
      ],
      "metadata": {
        "id": "-cel6iUVXuBn"
      },
      "execution_count": null,
      "outputs": []
    },
    {
      "cell_type": "code",
      "source": [
        "model = VGG(cfgs['E'], batch_norm=False)\n",
        "!pip install torchinfo\n",
        "from torchinfo import summary\n",
        "summary(model, input_size=(2,3,32,32), device='cpu')"
      ],
      "metadata": {
        "colab": {
          "base_uri": "https://localhost:8080/"
        },
        "id": "VA7whqSYgN-8",
        "outputId": "5930b9e4-c308-405a-d614-c6ce807d5750"
      },
      "execution_count": null,
      "outputs": [
        {
          "output_type": "stream",
          "name": "stdout",
          "text": [
            "Requirement already satisfied: torchinfo in /usr/local/lib/python3.10/dist-packages (1.8.0)\n"
          ]
        },
        {
          "output_type": "execute_result",
          "data": {
            "text/plain": [
              "==========================================================================================\n",
              "Layer (type:depth-idx)                   Output Shape              Param #\n",
              "==========================================================================================\n",
              "VGG                                      [2, 1000]                 --\n",
              "├─Sequential: 1-1                        [2, 512, 1, 1]            --\n",
              "│    └─Conv2d: 2-1                       [2, 64, 32, 32]           1,792\n",
              "│    └─ReLU: 2-2                         [2, 64, 32, 32]           --\n",
              "│    └─Conv2d: 2-3                       [2, 64, 32, 32]           36,928\n",
              "│    └─ReLU: 2-4                         [2, 64, 32, 32]           --\n",
              "│    └─MaxPool2d: 2-5                    [2, 64, 16, 16]           --\n",
              "│    └─Conv2d: 2-6                       [2, 128, 16, 16]          73,856\n",
              "│    └─ReLU: 2-7                         [2, 128, 16, 16]          --\n",
              "│    └─Conv2d: 2-8                       [2, 128, 16, 16]          147,584\n",
              "│    └─ReLU: 2-9                         [2, 128, 16, 16]          --\n",
              "│    └─MaxPool2d: 2-10                   [2, 128, 8, 8]            --\n",
              "│    └─Conv2d: 2-11                      [2, 256, 8, 8]            295,168\n",
              "│    └─ReLU: 2-12                        [2, 256, 8, 8]            --\n",
              "│    └─Conv2d: 2-13                      [2, 256, 8, 8]            590,080\n",
              "│    └─ReLU: 2-14                        [2, 256, 8, 8]            --\n",
              "│    └─Conv2d: 2-15                      [2, 256, 8, 8]            590,080\n",
              "│    └─ReLU: 2-16                        [2, 256, 8, 8]            --\n",
              "│    └─Conv2d: 2-17                      [2, 256, 8, 8]            590,080\n",
              "│    └─ReLU: 2-18                        [2, 256, 8, 8]            --\n",
              "│    └─MaxPool2d: 2-19                   [2, 256, 4, 4]            --\n",
              "│    └─Conv2d: 2-20                      [2, 512, 4, 4]            1,180,160\n",
              "│    └─ReLU: 2-21                        [2, 512, 4, 4]            --\n",
              "│    └─Conv2d: 2-22                      [2, 512, 4, 4]            2,359,808\n",
              "│    └─ReLU: 2-23                        [2, 512, 4, 4]            --\n",
              "│    └─Conv2d: 2-24                      [2, 512, 4, 4]            2,359,808\n",
              "│    └─ReLU: 2-25                        [2, 512, 4, 4]            --\n",
              "│    └─Conv2d: 2-26                      [2, 512, 4, 4]            2,359,808\n",
              "│    └─ReLU: 2-27                        [2, 512, 4, 4]            --\n",
              "│    └─MaxPool2d: 2-28                   [2, 512, 2, 2]            --\n",
              "│    └─Conv2d: 2-29                      [2, 512, 2, 2]            2,359,808\n",
              "│    └─ReLU: 2-30                        [2, 512, 2, 2]            --\n",
              "│    └─Conv2d: 2-31                      [2, 512, 2, 2]            2,359,808\n",
              "│    └─ReLU: 2-32                        [2, 512, 2, 2]            --\n",
              "│    └─Conv2d: 2-33                      [2, 512, 2, 2]            2,359,808\n",
              "│    └─ReLU: 2-34                        [2, 512, 2, 2]            --\n",
              "│    └─Conv2d: 2-35                      [2, 512, 2, 2]            2,359,808\n",
              "│    └─ReLU: 2-36                        [2, 512, 2, 2]            --\n",
              "│    └─MaxPool2d: 2-37                   [2, 512, 1, 1]            --\n",
              "├─AdaptiveAvgPool2d: 1-2                 [2, 512, 7, 7]            --\n",
              "├─Sequential: 1-3                        [2, 1000]                 --\n",
              "│    └─Linear: 2-38                      [2, 4096]                 102,764,544\n",
              "│    └─ReLU: 2-39                        [2, 4096]                 --\n",
              "│    └─Dropout: 2-40                     [2, 4096]                 --\n",
              "│    └─Linear: 2-41                      [2, 4096]                 16,781,312\n",
              "│    └─ReLU: 2-42                        [2, 4096]                 --\n",
              "│    └─Dropout: 2-43                     [2, 4096]                 --\n",
              "│    └─Linear: 2-44                      [2, 1000]                 4,097,000\n",
              "==========================================================================================\n",
              "Total params: 143,667,240\n",
              "Trainable params: 143,667,240\n",
              "Non-trainable params: 0\n",
              "Total mult-adds (G): 1.04\n",
              "==========================================================================================\n",
              "Input size (MB): 0.02\n",
              "Forward/backward pass size (MB): 5.00\n",
              "Params size (MB): 574.67\n",
              "Estimated Total Size (MB): 579.69\n",
              "=========================================================================================="
            ]
          },
          "metadata": {},
          "execution_count": 36
        }
      ]
    },
    {
      "cell_type": "markdown",
      "source": [
        "Train"
      ],
      "metadata": {
        "id": "VMWmijh0vnH2"
      }
    },
    {
      "cell_type": "code",
      "source": [
        "batch_size = 128\n",
        "learning_rate = 0.0001\n",
        "num_epoch = 5\n",
        "\n",
        "device = torch.device('cuda' if torch.cuda.is_available() else 'cpu')\n",
        "model = VGG(cfgs['D'], batch_norm = False).to(device)\n",
        "\n",
        "loss_func = nn.CrossEntropyLoss()\n",
        "optimizer = torch.optim.Adam(model.parameters(), lr=learning_rate)"
      ],
      "metadata": {
        "id": "UVWGl2pxn3H8"
      },
      "execution_count": null,
      "outputs": []
    },
    {
      "cell_type": "code",
      "source": [
        "import torchvision\n",
        "import torchvision.datasets as datasets\n",
        "import torchvision.transforms as transforms\n",
        "from torch.utils.data import DataLoader\n",
        "\n",
        "transform = transforms.ToTensor()\n",
        "cifar10_train = datasets.CIFAR10(root=\"../Data/\", train=True, transform=transform, target_transform=None, download=True)\n",
        "cifar10_test = datasets.CIFAR10(root=\"../Data/\", train=False, transform=transform, target_transform=None, download=True)\n",
        "train_DL = torch.utils.data.DataLoader(cifar10_train, batch_size=batch_size, shuffle=True, num_workers=2)\n",
        "test_DL = torch.utils.data.DataLoader(cifar10_test, batch_size=batch_size, shuffle=True, num_workers=2)"
      ],
      "metadata": {
        "colab": {
          "base_uri": "https://localhost:8080/"
        },
        "id": "MfhW-CaujQZs",
        "outputId": "eb1e1511-0735-46e0-e05b-a35a4be56e63"
      },
      "execution_count": null,
      "outputs": [
        {
          "output_type": "stream",
          "name": "stdout",
          "text": [
            "Downloading https://www.cs.toronto.edu/~kriz/cifar-10-python.tar.gz to ../Data/cifar-10-python.tar.gz\n"
          ]
        },
        {
          "output_type": "stream",
          "name": "stderr",
          "text": [
            "100%|██████████| 170498071/170498071 [00:13<00:00, 13035607.21it/s]\n"
          ]
        },
        {
          "output_type": "stream",
          "name": "stdout",
          "text": [
            "Extracting ../Data/cifar-10-python.tar.gz to ../Data/\n",
            "Files already downloaded and verified\n"
          ]
        }
      ]
    },
    {
      "cell_type": "code",
      "source": [
        "NoT = len(train_DL)\n",
        "\n",
        "for i in range(num_epoch):\n",
        "    rloss = 0\n",
        "    for image,label in tqdm(train_DL):\n",
        "        x = image.to(device)\n",
        "        y = label.to(device)\n",
        "\n",
        "        optimizer.zero_grad()\n",
        "        output = model.forward(x)\n",
        "        loss = loss_func(output,y)\n",
        "        loss.backward()\n",
        "        optimizer.step()\n",
        "        rloss += loss.item()\n",
        "\n",
        "    loss_e = rloss/NoT\n",
        "    print(f\"Epoch: {i+1}, train loss: {round(loss_e,3)}\")\n",
        "    print(\"-\"*20)"
      ],
      "metadata": {
        "colab": {
          "base_uri": "https://localhost:8080/"
        },
        "id": "VzqPtTERpc4t",
        "outputId": "613d1e1f-1654-4e57-df2f-61594667d429"
      },
      "execution_count": null,
      "outputs": [
        {
          "output_type": "stream",
          "name": "stderr",
          "text": [
            "\r  0%|          | 0/391 [00:00<?, ?it/s]/usr/lib/python3.10/multiprocessing/popen_fork.py:66: RuntimeWarning: os.fork() was called. os.fork() is incompatible with multithreaded code, and JAX is multithreaded, so this will likely lead to a deadlock.\n",
            "  self.pid = os.fork()\n",
            "100%|██████████| 391/391 [00:44<00:00,  8.74it/s]\n"
          ]
        },
        {
          "output_type": "stream",
          "name": "stdout",
          "text": [
            "Epoch: 1, train loss: 2.097\n",
            "--------------------\n"
          ]
        },
        {
          "output_type": "stream",
          "name": "stderr",
          "text": [
            "100%|██████████| 391/391 [00:44<00:00,  8.75it/s]\n"
          ]
        },
        {
          "output_type": "stream",
          "name": "stdout",
          "text": [
            "Epoch: 2, train loss: 1.38\n",
            "--------------------\n"
          ]
        },
        {
          "output_type": "stream",
          "name": "stderr",
          "text": [
            "100%|██████████| 391/391 [00:44<00:00,  8.80it/s]\n"
          ]
        },
        {
          "output_type": "stream",
          "name": "stdout",
          "text": [
            "Epoch: 3, train loss: 1.104\n",
            "--------------------\n"
          ]
        },
        {
          "output_type": "stream",
          "name": "stderr",
          "text": [
            "100%|██████████| 391/391 [00:44<00:00,  8.79it/s]\n"
          ]
        },
        {
          "output_type": "stream",
          "name": "stdout",
          "text": [
            "Epoch: 4, train loss: 0.925\n",
            "--------------------\n"
          ]
        },
        {
          "output_type": "stream",
          "name": "stderr",
          "text": [
            "100%|██████████| 391/391 [00:44<00:00,  8.79it/s]"
          ]
        },
        {
          "output_type": "stream",
          "name": "stdout",
          "text": [
            "Epoch: 5, train loss: 0.783\n",
            "--------------------\n"
          ]
        },
        {
          "output_type": "stream",
          "name": "stderr",
          "text": [
            "\n"
          ]
        }
      ]
    },
    {
      "cell_type": "markdown",
      "source": [
        "Test"
      ],
      "metadata": {
        "id": "HRqu2Vs3vk2T"
      }
    },
    {
      "cell_type": "code",
      "source": [
        "model.eval()\n",
        "with torch.no_grad():\n",
        "    rcorrect = 0\n",
        "    for image, label in test_DL:\n",
        "        x = image.to(device)\n",
        "        y = label.to(device)\n",
        "\n",
        "        output = model.forward(x)\n",
        "\n",
        "        pred = output.argmax(dim=1)\n",
        "        corrects_b = torch.sum(pred == y).item()\n",
        "        rcorrect += corrects_b\n",
        "    accuracy_e = rcorrect/len(test_DL.dataset)*100\n",
        "print(f\"Test accuracy: {rcorrect}/{len(test_DL.dataset)} ({round(accuracy_e,1)} %)\")"
      ],
      "metadata": {
        "colab": {
          "base_uri": "https://localhost:8080/"
        },
        "id": "O7NZ-lrPuV6i",
        "outputId": "53a60278-012c-4330-881a-07cd729f5e4b"
      },
      "execution_count": null,
      "outputs": [
        {
          "output_type": "stream",
          "name": "stdout",
          "text": [
            "Test accuracy: 6775/10000 (67.8 %)\n"
          ]
        }
      ]
    },
    {
      "cell_type": "code",
      "source": [],
      "metadata": {
        "id": "jM8UAGBw3rgv"
      },
      "execution_count": null,
      "outputs": []
    }
  ]
}